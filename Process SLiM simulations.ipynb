{
 "cells": [
  {
   "cell_type": "code",
   "execution_count": 97,
   "metadata": {
    "collapsed": false
   },
   "outputs": [
    {
     "name": "stderr",
     "output_type": "stream",
     "text": [
      "/usr/local/lib/python2.7/dist-packages/matplotlib/font_manager.py:273: UserWarning: Matplotlib is building the font cache using fc-list. This may take a moment.\n",
      "  warnings.warn('Matplotlib is building the font cache using fc-list. This may take a moment.')\n"
     ]
    }
   ],
   "source": [
    "from __future__ import division\n",
    "import os\n",
    "import sys\n",
    "\n",
    "from glob import glob\n",
    "\n",
    "import numpy as np\n",
    "import pandas as pd\n",
    "import scipy as sp\n",
    "from scipy import stats\n",
    "\n",
    "import matplotlib as mpl\n",
    "from matplotlib import pyplot as plt\n",
    "%matplotlib inline"
   ]
  },
  {
   "cell_type": "code",
   "execution_count": 44,
   "metadata": {
    "collapsed": true
   },
   "outputs": [],
   "source": [
    "np.set_printoptions(threshold=np.nan)"
   ]
  },
  {
   "cell_type": "code",
   "execution_count": 57,
   "metadata": {
    "collapsed": true
   },
   "outputs": [],
   "source": [
    "def read_ms_file(fp):\n",
    "    with open(fp) as fh:\n",
    "        ## Skip first two lines\n",
    "        fh.readline()\n",
    "        fh.readline()\n",
    "\n",
    "        ## Parse positions\n",
    "        positions = map(float, fh.readline().replace('positions: ','').split())\n",
    "\n",
    "        ## Make genotype array\n",
    "        seqs = [map(int, j) for j in map(list, [x.strip() for x in fh])]\n",
    "        gt = np.array(seqs)\n",
    "        \n",
    "        return positions,gt"
   ]
  },
  {
   "cell_type": "code",
   "execution_count": 80,
   "metadata": {
    "collapsed": true
   },
   "outputs": [],
   "source": [
    "def get_trajectories(baseDir):\n",
    "    posANC,gtANC = read_ms_file(os.path.join(baseDir,'ms_ANC.txt'))\n",
    "    posOOA,gtOOA = read_ms_file(os.path.join(baseDir,'ms_OOA.txt'))\n",
    "    posAFR,gtAFR = read_ms_file(os.path.join(baseDir,'ms_AFR.txt'))\n",
    "    posEUR,gtEUR = read_ms_file(os.path.join(baseDir,'ms_EUR.txt'))\n",
    "    posEAS,gtEAS = read_ms_file(os.path.join(baseDir,'ms_EAS.txt'))\n",
    "    \n",
    "    ## Determine which positions are shared from beginning\n",
    "    shared = set.intersection(set(posANC),set(posOOA),set(posAFR),set(posEUR),set(posEAS))\n",
    "    \n",
    "    ## Get AF trajectory for each SNP\n",
    "    trajectories = []\n",
    "    for pos in sorted(list(shared)):\n",
    "        afANC = gtANC[:,posANC.index(pos)].mean()\n",
    "        afOOA = gtOOA[:,posOOA.index(pos)].mean()\n",
    "        afAFR = gtAFR[:,posAFR.index(pos)].mean()\n",
    "        afEUR = gtEUR[:,posEUR.index(pos)].mean()\n",
    "        afEAS = gtEAS[:,posEAS.index(pos)].mean()\n",
    "        afGAF = (afEUR+afEAS+afAFR)*(1/3)\n",
    "\n",
    "        trajectories.append((afANC,afOOA,afAFR,afEUR,afEAS,afGAF))\n",
    "    \n",
    "    return trajectories"
   ]
  },
  {
   "cell_type": "code",
   "execution_count": 82,
   "metadata": {
    "collapsed": true
   },
   "outputs": [],
   "source": [
    "trajectories = []\n",
    "for replicate in glob('/DATA/raw/sims/results/*'):\n",
    "    res = get_trajectories(replicate)\n",
    "    trajectories.extend(res)"
   ]
  },
  {
   "cell_type": "code",
   "execution_count": 84,
   "metadata": {
    "collapsed": false
   },
   "outputs": [],
   "source": [
    "traj = pd.DataFrame(trajectories, columns=['af_ANC','af_OOA','af_AFR','af_EUR','af_EAS', 'GAF'])"
   ]
  },
  {
   "cell_type": "code",
   "execution_count": 86,
   "metadata": {
    "collapsed": false
   },
   "outputs": [],
   "source": [
    "traj['anc_cap'] = traj.apply(lambda x:True if x['af_ANC']>=0.05 else False, axis=1)"
   ]
  },
  {
   "cell_type": "code",
   "execution_count": 88,
   "metadata": {
    "collapsed": true
   },
   "outputs": [],
   "source": [
    "traj['ooa_cap'] = traj.apply(lambda x:True if x['af_OOA']>=0.05 else False, axis=1)"
   ]
  },
  {
   "cell_type": "code",
   "execution_count": 89,
   "metadata": {
    "collapsed": true
   },
   "outputs": [],
   "source": [
    "traj['global_cap'] = traj.apply(lambda x:True if x['GAF']>=0.05 else False, axis=1)"
   ]
  },
  {
   "cell_type": "code",
   "execution_count": 90,
   "metadata": {
    "collapsed": false
   },
   "outputs": [
    {
     "data": {
      "text/html": [
       "<div>\n",
       "<table border=\"1\" class=\"dataframe\">\n",
       "  <thead>\n",
       "    <tr style=\"text-align: right;\">\n",
       "      <th></th>\n",
       "      <th>af_ANC</th>\n",
       "      <th>af_OOA</th>\n",
       "      <th>af_AFR</th>\n",
       "      <th>af_EUR</th>\n",
       "      <th>af_EAS</th>\n",
       "      <th>GAF</th>\n",
       "      <th>anc_cap</th>\n",
       "      <th>ooa_cap</th>\n",
       "      <th>global_cap</th>\n",
       "    </tr>\n",
       "  </thead>\n",
       "  <tbody>\n",
       "    <tr>\n",
       "      <th>0</th>\n",
       "      <td>0.11</td>\n",
       "      <td>0.22</td>\n",
       "      <td>0.15</td>\n",
       "      <td>0.55</td>\n",
       "      <td>0.38</td>\n",
       "      <td>0.360000</td>\n",
       "      <td>True</td>\n",
       "      <td>True</td>\n",
       "      <td>True</td>\n",
       "    </tr>\n",
       "    <tr>\n",
       "      <th>1</th>\n",
       "      <td>0.18</td>\n",
       "      <td>0.22</td>\n",
       "      <td>0.21</td>\n",
       "      <td>0.55</td>\n",
       "      <td>0.38</td>\n",
       "      <td>0.380000</td>\n",
       "      <td>True</td>\n",
       "      <td>True</td>\n",
       "      <td>True</td>\n",
       "    </tr>\n",
       "    <tr>\n",
       "      <th>2</th>\n",
       "      <td>0.42</td>\n",
       "      <td>0.51</td>\n",
       "      <td>0.39</td>\n",
       "      <td>0.60</td>\n",
       "      <td>0.43</td>\n",
       "      <td>0.473333</td>\n",
       "      <td>True</td>\n",
       "      <td>True</td>\n",
       "      <td>True</td>\n",
       "    </tr>\n",
       "    <tr>\n",
       "      <th>3</th>\n",
       "      <td>0.24</td>\n",
       "      <td>0.29</td>\n",
       "      <td>0.18</td>\n",
       "      <td>0.05</td>\n",
       "      <td>0.05</td>\n",
       "      <td>0.093333</td>\n",
       "      <td>True</td>\n",
       "      <td>True</td>\n",
       "      <td>True</td>\n",
       "    </tr>\n",
       "    <tr>\n",
       "      <th>4</th>\n",
       "      <td>0.18</td>\n",
       "      <td>0.22</td>\n",
       "      <td>0.21</td>\n",
       "      <td>0.55</td>\n",
       "      <td>0.38</td>\n",
       "      <td>0.380000</td>\n",
       "      <td>True</td>\n",
       "      <td>True</td>\n",
       "      <td>True</td>\n",
       "    </tr>\n",
       "  </tbody>\n",
       "</table>\n",
       "</div>"
      ],
      "text/plain": [
       "   af_ANC  af_OOA  af_AFR  af_EUR  af_EAS       GAF anc_cap ooa_cap global_cap\n",
       "0    0.11    0.22    0.15    0.55    0.38  0.360000    True    True       True\n",
       "1    0.18    0.22    0.21    0.55    0.38  0.380000    True    True       True\n",
       "2    0.42    0.51    0.39    0.60    0.43  0.473333    True    True       True\n",
       "3    0.24    0.29    0.18    0.05    0.05  0.093333    True    True       True\n",
       "4    0.18    0.22    0.21    0.55    0.38  0.380000    True    True       True"
      ]
     },
     "execution_count": 90,
     "metadata": {},
     "output_type": "execute_result"
    }
   ],
   "source": [
    "traj.head()"
   ]
  },
  {
   "cell_type": "code",
   "execution_count": 95,
   "metadata": {
    "collapsed": false
   },
   "outputs": [
    {
     "data": {
      "text/plain": [
       "13553"
      ]
     },
     "execution_count": 95,
     "metadata": {},
     "output_type": "execute_result"
    }
   ],
   "source": [
    "traj['anc_cap'].sum()"
   ]
  },
  {
   "cell_type": "code",
   "execution_count": 96,
   "metadata": {
    "collapsed": false
   },
   "outputs": [
    {
     "data": {
      "text/plain": [
       "14694"
      ]
     },
     "execution_count": 96,
     "metadata": {},
     "output_type": "execute_result"
    }
   ],
   "source": [
    "traj['global_cap'].sum()"
   ]
  },
  {
   "cell_type": "code",
   "execution_count": 94,
   "metadata": {
    "collapsed": false
   },
   "outputs": [
    {
     "data": {
      "text/plain": [
       "(14940, 9)"
      ]
     },
     "execution_count": 94,
     "metadata": {},
     "output_type": "execute_result"
    }
   ],
   "source": [
    "traj.shape"
   ]
  },
  {
   "cell_type": "code",
   "execution_count": 104,
   "metadata": {
    "collapsed": false
   },
   "outputs": [
    {
     "data": {
      "text/plain": [
       "<matplotlib.text.Text at 0x7f0b9f832e90>"
      ]
     },
     "execution_count": 104,
     "metadata": {},
     "output_type": "execute_result"
    },
    {
     "data": {
      "image/png": "[encoded data removed]",
      "text/plain": [
       "<matplotlib.figure.Figure at 0x7f0b9f9b5490>"
      ]
     },
     "metadata": {},
     "output_type": "display_data"
    }
   ],
   "source": [
    "plt.hist2d(traj['af_ANC'],traj['GAF'], bins=np.linspace(0,1,21), cmin=1)\n",
    "plt.colorbar()\n",
    "\n",
    "ax = plt.gca()\n",
    "\n",
    "ax.set_xlabel('AF immediately before OoA')\n",
    "ax.set_ylabel('Global AF at end')"
   ]
  },
  {
   "cell_type": "code",
   "execution_count": null,
   "metadata": {
    "collapsed": true
   },
   "outputs": [],
   "source": []
  }
 ],
 "metadata": {
  "kernelspec": {
   "display_name": "Python 2",
   "language": "python",
   "name": "python2"
  },
  "language_info": {
   "codemirror_mode": {
    "name": "ipython",
    "version": 2
   },
   "file_extension": ".py",
   "mimetype": "text/x-python",
   "name": "python",
   "nbconvert_exporter": "python",
   "pygments_lexer": "ipython2",
   "version": "2.7.6"
  },
  "widgets": {
   "state": {},
   "version": "1.1.2"
  }
 },
 "nbformat": 4,
 "nbformat_minor": 0
}
