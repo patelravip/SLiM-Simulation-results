{
 "cells": [
  {
   "cell_type": "code",
   "execution_count": 18,
   "metadata": {
    "collapsed": false
   },
   "outputs": [],
   "source": [
    "from __future__ import division\n",
    "import os\n",
    "import sys\n",
    "\n",
    "from glob import glob\n",
    "\n",
    "import numpy as np\n",
    "import pandas as pd\n",
    "import scipy as sp\n",
    "from scipy import stats\n",
    "\n",
    "import matplotlib as mpl\n",
    "from matplotlib import pyplot as plt\n",
    "%matplotlib inline"
   ]
  },
  {
   "cell_type": "code",
   "execution_count": 19,
   "metadata": {
    "collapsed": true
   },
   "outputs": [],
   "source": [
    "np.set_printoptions(threshold=np.nan)"
   ]
  },
  {
   "cell_type": "code",
   "execution_count": 20,
   "metadata": {
    "collapsed": true
   },
   "outputs": [],
   "source": [
    "def read_ms_file(fp):\n",
    "    with open(fp) as fh:\n",
    "        ## Skip first two lines\n",
    "        fh.readline()\n",
    "        fh.readline()\n",
    "\n",
    "        ## Parse positions\n",
    "        positions = map(float, fh.readline().replace('positions: ','').split())\n",
    "\n",
    "        ## Make genotype array\n",
    "        seqs = [map(int, j) for j in map(list, [x.strip() for x in fh])]\n",
    "        gt = np.array(seqs)\n",
    "        \n",
    "        return positions,gt"
   ]
  },
  {
   "cell_type": "code",
   "execution_count": 22,
   "metadata": {
    "collapsed": true
   },
   "outputs": [],
   "source": [
    "def get_trajectories(baseDir):\n",
    "    posANC,gtANC = read_ms_file(os.path.join(baseDir,'ms_ANC.txt'))\n",
    "    posOOA,gtOOA = read_ms_file(os.path.join(baseDir,'ms_OOA.txt'))\n",
    "    posAFR,gtAFR = read_ms_file(os.path.join(baseDir,'ms_AFR.txt'))\n",
    "    posEUR,gtEUR = read_ms_file(os.path.join(baseDir,'ms_EUR.txt'))\n",
    "    posEAS,gtEAS = read_ms_file(os.path.join(baseDir,'ms_EAS.txt'))\n",
    "    \n",
    "    ## Determine which positions are shared from beginning\n",
    "#     shared = set.intersection(set(posANC),set(posOOA),set(posAFR),set(posEUR),set(posEAS))\n",
    "    \n",
    "    ## Get list of unique SNPs\n",
    "    unique = set(posANC+posOOA+posAFR+posEUR+posEAS)\n",
    "    \n",
    "    ## Get AF trajectory for each SNP\n",
    "    trajectories = []\n",
    "#     for pos in sorted(list(shared)):\n",
    "    for pos in sorted(list(unique)):\n",
    "        afANC = gtANC[:,posANC.index(pos)].mean() if pos in posANC else 0\n",
    "        afOOA = gtOOA[:,posOOA.index(pos)].mean() if pos in posOOA else 0\n",
    "        afAFR = gtAFR[:,posAFR.index(pos)].mean() if pos in posAFR else 0\n",
    "        afEUR = gtEUR[:,posEUR.index(pos)].mean() if pos in posEUR else 0\n",
    "        afEAS = gtEAS[:,posEAS.index(pos)].mean() if pos in posEAS else 0\n",
    "        afGAF = (afEUR+afEAS+afAFR)*(1/3)\n",
    "\n",
    "        trajectories.append((afANC,afOOA,afAFR,afEUR,afEAS,afGAF))\n",
    "    \n",
    "    return trajectories"
   ]
  },
  {
   "cell_type": "code",
   "execution_count": 26,
   "metadata": {
    "collapsed": false
   },
   "outputs": [
    {
     "name": "stdout",
     "output_type": "stream",
     "text": [
      "CPU times: user 5.71 s, sys: 48 ms, total: 5.76 s\n",
      "Wall time: 5.77 s\n"
     ]
    }
   ],
   "source": [
    "%%time\n",
    "trajectories = []\n",
    "for replicate in glob('/DATA/raw/sims/results/*'):\n",
    "    res = get_trajectories(replicate)\n",
    "    trajectories.extend(res)"
   ]
  },
  {
   "cell_type": "code",
   "execution_count": 33,
   "metadata": {
    "collapsed": false
   },
   "outputs": [],
   "source": [
    "traj = pd.DataFrame(trajectories, columns=['af_ANC','af_OOA','af_AFR','af_EUR','af_EAS', 'GAF'])"
   ]
  },
  {
   "cell_type": "code",
   "execution_count": 28,
   "metadata": {
    "collapsed": false
   },
   "outputs": [],
   "source": [
    "traj['anc_cap'] = traj.apply(lambda x:True if x['af_ANC']>=0.05 else False, axis=1)"
   ]
  },
  {
   "cell_type": "code",
   "execution_count": 29,
   "metadata": {
    "collapsed": true
   },
   "outputs": [],
   "source": [
    "traj['ooa_cap'] = traj.apply(lambda x:True if x['af_OOA']>=0.05 else False, axis=1)"
   ]
  },
  {
   "cell_type": "code",
   "execution_count": 30,
   "metadata": {
    "collapsed": true
   },
   "outputs": [],
   "source": [
    "traj['global_cap'] = traj.apply(lambda x:True if x['GAF']>=0.05 else False, axis=1)"
   ]
  },
  {
   "cell_type": "code",
   "execution_count": 34,
   "metadata": {
    "collapsed": false
   },
   "outputs": [
    {
     "data": {
      "text/html": [
       "<div>\n",
       "<table border=\"1\" class=\"dataframe\">\n",
       "  <thead>\n",
       "    <tr style=\"text-align: right;\">\n",
       "      <th></th>\n",
       "      <th>af_ANC</th>\n",
       "      <th>af_OOA</th>\n",
       "      <th>af_AFR</th>\n",
       "      <th>af_EUR</th>\n",
       "      <th>af_EAS</th>\n",
       "      <th>GAF</th>\n",
       "    </tr>\n",
       "  </thead>\n",
       "  <tbody>\n",
       "    <tr>\n",
       "      <th>0</th>\n",
       "      <td>0.00</td>\n",
       "      <td>0.00</td>\n",
       "      <td>0.02</td>\n",
       "      <td>0.00</td>\n",
       "      <td>0.00</td>\n",
       "      <td>0.006667</td>\n",
       "    </tr>\n",
       "    <tr>\n",
       "      <th>1</th>\n",
       "      <td>0.00</td>\n",
       "      <td>0.00</td>\n",
       "      <td>0.03</td>\n",
       "      <td>0.00</td>\n",
       "      <td>0.00</td>\n",
       "      <td>0.010000</td>\n",
       "    </tr>\n",
       "    <tr>\n",
       "      <th>2</th>\n",
       "      <td>0.11</td>\n",
       "      <td>0.22</td>\n",
       "      <td>0.15</td>\n",
       "      <td>0.55</td>\n",
       "      <td>0.38</td>\n",
       "      <td>0.360000</td>\n",
       "    </tr>\n",
       "    <tr>\n",
       "      <th>3</th>\n",
       "      <td>0.18</td>\n",
       "      <td>0.22</td>\n",
       "      <td>0.21</td>\n",
       "      <td>0.55</td>\n",
       "      <td>0.38</td>\n",
       "      <td>0.380000</td>\n",
       "    </tr>\n",
       "    <tr>\n",
       "      <th>4</th>\n",
       "      <td>0.00</td>\n",
       "      <td>0.00</td>\n",
       "      <td>0.01</td>\n",
       "      <td>0.00</td>\n",
       "      <td>0.00</td>\n",
       "      <td>0.003333</td>\n",
       "    </tr>\n",
       "  </tbody>\n",
       "</table>\n",
       "</div>"
      ],
      "text/plain": [
       "   af_ANC  af_OOA  af_AFR  af_EUR  af_EAS       GAF\n",
       "0    0.00    0.00    0.02    0.00    0.00  0.006667\n",
       "1    0.00    0.00    0.03    0.00    0.00  0.010000\n",
       "2    0.11    0.22    0.15    0.55    0.38  0.360000\n",
       "3    0.18    0.22    0.21    0.55    0.38  0.380000\n",
       "4    0.00    0.00    0.01    0.00    0.00  0.003333"
      ]
     },
     "execution_count": 34,
     "metadata": {},
     "output_type": "execute_result"
    }
   ],
   "source": [
    "traj.head()"
   ]
  },
  {
   "cell_type": "code",
   "execution_count": 12,
   "metadata": {
    "collapsed": false
   },
   "outputs": [
    {
     "data": {
      "text/plain": [
       "13553"
      ]
     },
     "execution_count": 12,
     "metadata": {},
     "output_type": "execute_result"
    }
   ],
   "source": [
    "traj['anc_cap'].sum()"
   ]
  },
  {
   "cell_type": "code",
   "execution_count": 13,
   "metadata": {
    "collapsed": false
   },
   "outputs": [
    {
     "data": {
      "text/plain": [
       "14694"
      ]
     },
     "execution_count": 13,
     "metadata": {},
     "output_type": "execute_result"
    }
   ],
   "source": [
    "traj['global_cap'].sum()"
   ]
  },
  {
   "cell_type": "code",
   "execution_count": 14,
   "metadata": {
    "collapsed": false
   },
   "outputs": [
    {
     "data": {
      "text/plain": [
       "(14940, 9)"
      ]
     },
     "execution_count": 14,
     "metadata": {},
     "output_type": "execute_result"
    }
   ],
   "source": [
    "traj.shape"
   ]
  },
  {
   "cell_type": "code",
   "execution_count": 44,
   "metadata": {
    "collapsed": false
   },
   "outputs": [
    {
     "data": {
      "text/plain": [
       "<matplotlib.text.Text at 0x7f9f502cd6d0>"
      ]
     },
     "execution_count": 44,
     "metadata": {},
     "output_type": "execute_result"
    },
    {
     "data": {
      "image/png": "[encoded data removed]",
      "text/plain": [
       "<matplotlib.figure.Figure at 0x7f9f50180a10>"
      ]
     },
     "metadata": {},
     "output_type": "display_data"
    }
   ],
   "source": [
    "plt.hist2d(traj['af_ANC'],traj['GAF'], bins=np.linspace(0,1,21), norm=mpl.colors.LogNorm())\n",
    "plt.colorbar()\n",
    "\n",
    "ax = plt.gca()\n",
    "\n",
    "ax.set_xlabel('AF immediately before OoA')\n",
    "ax.set_ylabel('Global AF at end')"
   ]
  },
  {
   "cell_type": "code",
   "execution_count": 43,
   "metadata": {
    "collapsed": false
   },
   "outputs": [
    {
     "data": {
      "image/png": "[encoded data removed]",
      "text/plain": [
       "<matplotlib.figure.Figure at 0x7f9f50032890>"
      ]
     },
     "metadata": {},
     "output_type": "display_data"
    }
   ],
   "source": [
    "plt.hist(traj['af_ANC'], bins=np.linspace(0.01,1,100), log=True);"
   ]
  },
  {
   "cell_type": "code",
   "execution_count": 62,
   "metadata": {
    "collapsed": true
   },
   "outputs": [],
   "source": [
    "anc = traj[traj['af_ANC']>0]"
   ]
  },
  {
   "cell_type": "code",
   "execution_count": 63,
   "metadata": {
    "collapsed": false
   },
   "outputs": [
    {
     "data": {
      "text/plain": [
       "(48876, 6)"
      ]
     },
     "execution_count": 63,
     "metadata": {},
     "output_type": "execute_result"
    }
   ],
   "source": [
    "anc.shape"
   ]
  },
  {
   "cell_type": "code",
   "execution_count": 64,
   "metadata": {
    "collapsed": false
   },
   "outputs": [
    {
     "data": {
      "text/plain": [
       "(array([     0.,  12541.,   6005.,   3941.,   2619.,   1991.,   1725.,\n",
       "          1341.,   1158.,   1049.,    888.,    730.,    625.,    615.,\n",
       "           530.,    549.,    499.,    436.,    390.,    322.,    335.,\n",
       "           387.,    330.,    293.,    257.,    245.,    285.,    245.,\n",
       "           210.,    230.,    226.,    220.,    222.,    192.,    376.,\n",
       "             0.,    175.,    188.,    154.,    186.,    303.,      0.,\n",
       "           142.,    164.,    138.,    166.,    319.,      0.,    150.,\n",
       "           128.,    148.,    118.,    125.,    150.,    105.,    143.,\n",
       "           208.,      0.,    100.,    111.,    112.,    115.,    106.,\n",
       "           110.,    102.,     91.,     84.,     87.,    210.,     90.,\n",
       "             0.,     94.,     81.,     72.,     80.,     91.,     77.,\n",
       "           103.,     98.,     98.,     66.,    150.,     64.,      0.,\n",
       "            84.,     94.,     91.,     86.,     80.,     83.,     73.,\n",
       "            84.,     90.,    132.,     54.,      0.,     49.,     88.,\n",
       "            60.,    119.]),\n",
       " array([ 0.  ,  0.01,  0.02,  0.03,  0.04,  0.05,  0.06,  0.07,  0.08,\n",
       "         0.09,  0.1 ,  0.11,  0.12,  0.13,  0.14,  0.15,  0.16,  0.17,\n",
       "         0.18,  0.19,  0.2 ,  0.21,  0.22,  0.23,  0.24,  0.25,  0.26,\n",
       "         0.27,  0.28,  0.29,  0.3 ,  0.31,  0.32,  0.33,  0.34,  0.35,\n",
       "         0.36,  0.37,  0.38,  0.39,  0.4 ,  0.41,  0.42,  0.43,  0.44,\n",
       "         0.45,  0.46,  0.47,  0.48,  0.49,  0.5 ,  0.51,  0.52,  0.53,\n",
       "         0.54,  0.55,  0.56,  0.57,  0.58,  0.59,  0.6 ,  0.61,  0.62,\n",
       "         0.63,  0.64,  0.65,  0.66,  0.67,  0.68,  0.69,  0.7 ,  0.71,\n",
       "         0.72,  0.73,  0.74,  0.75,  0.76,  0.77,  0.78,  0.79,  0.8 ,\n",
       "         0.81,  0.82,  0.83,  0.84,  0.85,  0.86,  0.87,  0.88,  0.89,\n",
       "         0.9 ,  0.91,  0.92,  0.93,  0.94,  0.95,  0.96,  0.97,  0.98,\n",
       "         0.99,  1.  ]),\n",
       " <a list of 100 Patch objects>)"
      ]
     },
     "execution_count": 64,
     "metadata": {},
     "output_type": "execute_result"
    },
    {
     "data": {
      "image/png": "[encoded data removed]",
      "text/plain": [
       "<matplotlib.figure.Figure at 0x7f9f4f79d910>"
      ]
     },
     "metadata": {},
     "output_type": "display_data"
    }
   ],
   "source": [
    "plt.hist(anc['af_ANC'], bins=np.linspace(0,1,101),)"
   ]
  },
  {
   "cell_type": "code",
   "execution_count": 65,
   "metadata": {
    "collapsed": false
   },
   "outputs": [
    {
     "name": "stderr",
     "output_type": "stream",
     "text": [
      "/usr/local/lib/python2.7/dist-packages/ipykernel/__main__.py:1: SettingWithCopyWarning: \n",
      "A value is trying to be set on a copy of a slice from a DataFrame.\n",
      "Try using .loc[row_indexer,col_indexer] = value instead\n",
      "\n",
      "See the caveats in the documentation: http://pandas.pydata.org/pandas-docs/stable/indexing.html#indexing-view-versus-copy\n",
      "  if __name__ == '__main__':\n"
     ]
    }
   ],
   "source": [
    "anc['in_AFR'] = rare.apply(lambda x:True if x['af_AFR']>0 else False, axis=1)"
   ]
  },
  {
   "cell_type": "code",
   "execution_count": 66,
   "metadata": {
    "collapsed": false
   },
   "outputs": [
    {
     "name": "stderr",
     "output_type": "stream",
     "text": [
      "/usr/local/lib/python2.7/dist-packages/ipykernel/__main__.py:1: SettingWithCopyWarning: \n",
      "A value is trying to be set on a copy of a slice from a DataFrame.\n",
      "Try using .loc[row_indexer,col_indexer] = value instead\n",
      "\n",
      "See the caveats in the documentation: http://pandas.pydata.org/pandas-docs/stable/indexing.html#indexing-view-versus-copy\n",
      "  if __name__ == '__main__':\n"
     ]
    }
   ],
   "source": [
    "anc['in_EUR'] = rare.apply(lambda x:True if x['af_EUR']>0 else False, axis=1)"
   ]
  },
  {
   "cell_type": "code",
   "execution_count": 67,
   "metadata": {
    "collapsed": false
   },
   "outputs": [
    {
     "name": "stderr",
     "output_type": "stream",
     "text": [
      "/usr/local/lib/python2.7/dist-packages/ipykernel/__main__.py:1: SettingWithCopyWarning: \n",
      "A value is trying to be set on a copy of a slice from a DataFrame.\n",
      "Try using .loc[row_indexer,col_indexer] = value instead\n",
      "\n",
      "See the caveats in the documentation: http://pandas.pydata.org/pandas-docs/stable/indexing.html#indexing-view-versus-copy\n",
      "  if __name__ == '__main__':\n"
     ]
    }
   ],
   "source": [
    "anc['in_EAS'] = rare.apply(lambda x:True if x['af_EAS']>0 else False, axis=1)"
   ]
  },
  {
   "cell_type": "code",
   "execution_count": 73,
   "metadata": {
    "collapsed": false
   },
   "outputs": [
    {
     "data": {
      "text/plain": [
       "in_AFR  in_EUR  in_EAS\n",
       "False   False   False     18699.0\n",
       "                True        216.0\n",
       "        True    False       355.0\n",
       "                True        628.0\n",
       "True    False   False     10207.0\n",
       "                True       1029.0\n",
       "        True    False      2689.0\n",
       "                True      15053.0\n",
       "All                       48876.0\n",
       "Name: af_ANC, dtype: float64"
      ]
     },
     "execution_count": 73,
     "metadata": {},
     "output_type": "execute_result"
    }
   ],
   "source": [
    "anc.pivot_table(values='af_ANC', index=['in_AFR','in_EUR','in_EAS'], aggfunc=np.count_nonzero, margins=True)"
   ]
  },
  {
   "cell_type": "code",
   "execution_count": 69,
   "metadata": {
    "collapsed": true
   },
   "outputs": [],
   "source": [
    "rare = anc[anc['af_ANC']<=0.01]"
   ]
  },
  {
   "cell_type": "code",
   "execution_count": 70,
   "metadata": {
    "collapsed": false
   },
   "outputs": [
    {
     "data": {
      "text/plain": [
       "(12541, 9)"
      ]
     },
     "execution_count": 70,
     "metadata": {},
     "output_type": "execute_result"
    }
   ],
   "source": [
    "rare.shape"
   ]
  },
  {
   "cell_type": "code",
   "execution_count": 77,
   "metadata": {
    "collapsed": false,
    "scrolled": true
   },
   "outputs": [
    {
     "data": {
      "text/plain": [
       "in_AFR  in_EUR  in_EAS\n",
       "False   False   False      9894.0\n",
       "                True         69.0\n",
       "        True    False        90.0\n",
       "                True        126.0\n",
       "True    False   False      1733.0\n",
       "                True         95.0\n",
       "        True    False       188.0\n",
       "                True        346.0\n",
       "All                       12541.0\n",
       "Name: af_ANC, dtype: float64"
      ]
     },
     "execution_count": 77,
     "metadata": {},
     "output_type": "execute_result"
    }
   ],
   "source": [
    "rare.pivot_table(values='af_ANC', index=['in_AFR','in_EUR','in_EAS'], aggfunc=np.count_nonzero, margins=True)"
   ]
  },
  {
   "cell_type": "code",
   "execution_count": null,
   "metadata": {
    "collapsed": true
   },
   "outputs": [],
   "source": []
  }
 ],
 "metadata": {
  "kernelspec": {
   "display_name": "Python 2",
   "language": "python",
   "name": "python2"
  },
  "language_info": {
   "codemirror_mode": {
    "name": "ipython",
    "version": 2
   },
   "file_extension": ".py",
   "mimetype": "text/x-python",
   "name": "python",
   "nbconvert_exporter": "python",
   "pygments_lexer": "ipython2",
   "version": "2.7.6"
  },
  "widgets": {
   "state": {},
   "version": "1.1.2"
  }
 },
 "nbformat": 4,
 "nbformat_minor": 0
}
